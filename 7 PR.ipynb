{
 "cells": [
  {
   "cell_type": "code",
   "execution_count": 1,
   "id": "60e18ad3",
   "metadata": {},
   "outputs": [],
   "source": [
    "import nltk\n",
    "from nltk.corpus import stopwords\n",
    "from nltk.tokenize import word_tokenize\n",
    "from nltk.stem import PorterStemmer, WordNetLemmatizer\n",
    "from nltk import pos_tag\n",
    "from sklearn.feature_extraction.text import TfidfVectorizer"
   ]
  },
  {
   "cell_type": "code",
   "execution_count": 2,
   "id": "60151f09",
   "metadata": {},
   "outputs": [
    {
     "name": "stderr",
     "output_type": "stream",
     "text": [
      "[nltk_data] Downloading package punkt to\n",
      "[nltk_data]     C:\\Users\\Atul\\AppData\\Roaming\\nltk_data...\n",
      "[nltk_data]   Package punkt is already up-to-date!\n",
      "[nltk_data] Downloading package averaged_perceptron_tagger to\n",
      "[nltk_data]     C:\\Users\\Atul\\AppData\\Roaming\\nltk_data...\n",
      "[nltk_data]   Unzipping taggers\\averaged_perceptron_tagger.zip.\n",
      "[nltk_data] Downloading package stopwords to\n",
      "[nltk_data]     C:\\Users\\Atul\\AppData\\Roaming\\nltk_data...\n",
      "[nltk_data]   Package stopwords is already up-to-date!\n",
      "[nltk_data] Downloading package wordnet to\n",
      "[nltk_data]     C:\\Users\\Atul\\AppData\\Roaming\\nltk_data...\n"
     ]
    },
    {
     "data": {
      "text/plain": [
       "True"
      ]
     },
     "execution_count": 2,
     "metadata": {},
     "output_type": "execute_result"
    }
   ],
   "source": [
    "nltk.download('punkt')\n",
    "nltk.download('averaged_perceptron_tagger')\n",
    "nltk.download('stopwords')\n",
    "nltk.download('wordnet')"
   ]
  },
  {
   "cell_type": "code",
   "execution_count": 3,
   "id": "e69bdc49",
   "metadata": {},
   "outputs": [],
   "source": [
    "# Load the sample document\n",
    "document = \"This is a sample document. It includes various words and sentences.\"\n"
   ]
  },
  {
   "cell_type": "code",
   "execution_count": 4,
   "id": "bf57389d",
   "metadata": {},
   "outputs": [],
   "source": [
    "# Tokenization\n",
    "tokens = word_tokenize(document)\n"
   ]
  },
  {
   "cell_type": "code",
   "execution_count": 5,
   "id": "6a0af95e",
   "metadata": {},
   "outputs": [
    {
     "name": "stdout",
     "output_type": "stream",
     "text": [
      "['This', 'is', 'a', 'sample', 'document', '.', 'It', 'includes', 'various', 'words', 'and', 'sentences', '.']\n"
     ]
    }
   ],
   "source": [
    "print(tokens)"
   ]
  },
  {
   "cell_type": "code",
   "execution_count": 6,
   "id": "530df1ae",
   "metadata": {},
   "outputs": [
    {
     "name": "stdout",
     "output_type": "stream",
     "text": [
      "[('This', 'DT'), ('is', 'VBZ'), ('a', 'DT'), ('sample', 'JJ'), ('document', 'NN'), ('.', '.'), ('It', 'PRP'), ('includes', 'VBZ'), ('various', 'JJ'), ('words', 'NNS'), ('and', 'CC'), ('sentences', 'NNS'), ('.', '.')]\n",
      "{'that', 'only', 'same', 'd', 'yourselves', 'your', 'ourselves', 'if', 'very', 'himself', 'i', 'which', 'too', 'has', 'when', 'her', 'having', 'now', \"you'd\", \"doesn't\", \"weren't\", 'herself', 'them', 'where', 'each', 'by', 'under', 'doing', 'what', 'nor', 'myself', 'how', 'had', 'be', 'yourself', 'any', 'we', \"should've\", 'you', 'these', 'both', 'before', 'because', 'hadn', 'don', 'are', 'wasn', 'then', 'their', 't', 'about', 'ours', 'our', \"wouldn't\", \"shan't\", 'those', 'up', 'all', 'will', 'again', \"you're\", 'is', 'other', \"didn't\", 'mustn', 'with', 'she', \"wasn't\", 'into', 'to', 'just', 'it', 'once', 'down', 'few', \"haven't\", 've', 'y', 'at', 'have', 'yours', 'weren', 'no', 'further', 'there', 'me', \"hadn't\", \"isn't\", \"mightn't\", 'his', 'until', 'for', 'o', 'themselves', 'been', 'off', 'more', 'do', \"mustn't\", 'between', 'not', \"aren't\", 'own', 'such', 'out', 'haven', 'him', 'being', 'ma', 'from', 'needn', \"that'll\", 'mightn', \"it's\", 'doesn', 'should', \"you've\", 'this', 'aren', 'of', 'through', 'above', 'or', \"hasn't\", 'while', 'who', 'its', 'couldn', 'shouldn', 'and', 'here', \"couldn't\", 'than', \"won't\", 'can', 'll', \"needn't\", 'didn', 'does', 'but', 'whom', 'the', 'below', 'did', 'over', 'so', 'hers', \"she's\", 'a', 'an', \"shouldn't\", 'they', 'shan', 'in', 'why', 'was', \"don't\", 'wouldn', 'theirs', 'isn', 'on', 'he', 'during', 'against', 's', 'hasn', 'won', \"you'll\", 'some', 'after', 'm', 're', 'as', 'were', 'most', 'itself', 'my', 'ain', 'am'}\n"
     ]
    }
   ],
   "source": [
    "# POS Tagging\n",
    "pos_tags = pos_tag(tokens)\n",
    "print(pos_tags)\n",
    "# Stop Words Removal\n",
    "stop_words = set(stopwords.words('english'))\n",
    "print(stop_words)\n",
    "filtered_tokens = [token for token in tokens if token.lower() not in stop_words]"
   ]
  },
  {
   "cell_type": "code",
   "execution_count": 7,
   "id": "57769418",
   "metadata": {},
   "outputs": [
    {
     "name": "stdout",
     "output_type": "stream",
     "text": [
      "game\n",
      "game\n",
      "game\n",
      "game\n",
      "['sample', 'document', '.', 'includes', 'various', 'word', 'sentence', '.']\n"
     ]
    }
   ],
   "source": [
    "# Stemming\n",
    "words = [\"game\",\"gaming\",\"gamed\",\"games\"]\n",
    "ps = PorterStemmer()\n",
    "for word in words:\n",
    "    print(ps.stem(word))\n",
    "# Lemmatization\n",
    "lemmatizer = WordNetLemmatizer()\n",
    "lemmatized_tokens = [lemmatizer.lemmatize(token) for token in filtered_tokens]\n",
    "print(lemmatized_tokens)\n",
    "# Create TF-IDF representation\n",
    "documents = [document]\n",
    "vectorizer = TfidfVectorizer()\n",
    "tfidf_matrix = vectorizer.fit_transform(documents)"
   ]
  },
  {
   "cell_type": "code",
   "execution_count": null,
   "id": "66f6b26b",
   "metadata": {},
   "outputs": [],
   "source": []
  }
 ],
 "metadata": {
  "kernelspec": {
   "display_name": "Python 3 (ipykernel)",
   "language": "python",
   "name": "python3"
  },
  "language_info": {
   "codemirror_mode": {
    "name": "ipython",
    "version": 3
   },
   "file_extension": ".py",
   "mimetype": "text/x-python",
   "name": "python",
   "nbconvert_exporter": "python",
   "pygments_lexer": "ipython3",
   "version": "3.9.7"
  }
 },
 "nbformat": 4,
 "nbformat_minor": 5
}
